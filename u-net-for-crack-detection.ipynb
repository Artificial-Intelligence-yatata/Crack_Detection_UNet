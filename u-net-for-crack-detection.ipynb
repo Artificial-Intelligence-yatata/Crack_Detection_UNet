{
  "metadata": {
    "kernelspec": {
      "language": "python",
      "display_name": "Python 3",
      "name": "python3"
    },
    "language_info": {
      "name": "python",
      "version": "3.7.12",
      "mimetype": "text/x-python",
      "codemirror_mode": {
        "name": "ipython",
        "version": 3
      },
      "pygments_lexer": "ipython3",
      "nbconvert_exporter": "python",
      "file_extension": ".py"
    },
    "colab": {
      "provenance": []
    }
  },
  "nbformat_minor": 0,
  "nbformat": 4,
  "cells": [
    {
      "cell_type": "code",
      "source": [
        "!git clone https://github.com/Computer-Science-yatata/Crack_Detection_UNet.git"
      ],
      "metadata": {
        "id": "rjAhAUEu9i4u",
        "outputId": "c7406b61-0bcd-445a-e805-cf12a8ffd764",
        "colab": {
          "base_uri": "https://localhost:8080/"
        }
      },
      "execution_count": null,
      "outputs": [
        {
          "output_type": "stream",
          "name": "stdout",
          "text": [
            "Cloning into 'Crack_Detection_UNet'...\n",
            "remote: Enumerating objects: 20275, done.\u001b[K\n",
            "remote: Counting objects: 100% (9/9), done.\u001b[K\n",
            "remote: Compressing objects: 100% (8/8), done.\u001b[K\n",
            "remote: Total 20275 (delta 0), reused 9 (delta 0), pack-reused 20266\n",
            "Receiving objects: 100% (20275/20275), 974.25 MiB | 21.65 MiB/s, done.\n",
            "Resolving deltas: 100% (478/478), done.\n",
            "Updating files: 100% (21496/21496), done.\n"
          ]
        }
      ]
    },
    {
      "cell_type": "code",
      "source": [
        "!pip install glob --upgrade\n",
        "!pip install os --upgrade\n",
        "!pip install numpy --upgrade\n",
        "!pip install pandas --upgrade\n",
        "!pip install time --upgrade\n",
        "!pip install matplotlib --upgrade\n",
        "\n",
        "!pip install cv2 --upgrade\n",
        "\n",
        "!pip install torch --upgrade\n",
        "!pip install torchsummary --upgrade"
      ],
      "metadata": {
        "trusted": true,
        "id": "GCsPuWSzNj1r"
      },
      "execution_count": null,
      "outputs": []
    },
    {
      "cell_type": "code",
      "source": [
        "import glob\n",
        "import os\n",
        "import sys \n",
        "import numpy # linear algebra\n",
        "import pandas # data processing, CSV file I/O (e.g. pd.read_csv)\n",
        "import time\n",
        "import matplotlib\n",
        "import matplotlib.pyplot\n",
        "import cv2\n",
        "import random\n",
        "import sklearn\n",
        "import sklearn.model_selection\n",
        "\n",
        "import torch\n",
        "import torchvision\n",
        "import torchsummary\n",
        "\n",
        "\n",
        "\n",
        "\n",
        "#import torchmetrics"
      ],
      "metadata": {
        "execution": {
          "iopub.status.busy": "2023-03-11T19:37:35.429122Z",
          "iopub.execute_input": "2023-03-11T19:37:35.429576Z",
          "iopub.status.idle": "2023-03-11T19:37:39.382539Z",
          "shell.execute_reply.started": "2023-03-11T19:37:35.429534Z",
          "shell.execute_reply": "2023-03-11T19:37:39.380677Z"
        },
        "trusted": true,
        "id": "ylvFdkeQNj1w"
      },
      "execution_count": null,
      "outputs": []
    },
    {
      "cell_type": "code",
      "source": [
        "!pwd"
      ],
      "metadata": {
        "colab": {
          "base_uri": "https://localhost:8080/"
        },
        "id": "6Ha9_fDUXbWc",
        "outputId": "a3231ae0-1b4d-4f45-ef39-5db82e23408a"
      },
      "execution_count": null,
      "outputs": [
        {
          "output_type": "stream",
          "name": "stdout",
          "text": [
            "/content\n"
          ]
        }
      ]
    },
    {
      "cell_type": "code",
      "source": [
        "cwd = os.getcwd()\n",
        "print(cwd)"
      ],
      "metadata": {
        "colab": {
          "base_uri": "https://localhost:8080/"
        },
        "id": "g43Nqh3Il1gQ",
        "outputId": "8e94743f-3727-40d9-f695-2cd671d3d857"
      },
      "execution_count": null,
      "outputs": [
        {
          "output_type": "stream",
          "name": "stdout",
          "text": [
            "/content\n"
          ]
        }
      ]
    },
    {
      "cell_type": "code",
      "source": [
        "cwd = os.getcwd()\n",
        "subdir_path = os.path.join(cwd, 'Crack_Detection_UNet')\n",
        "\n",
        "sys.path.append(subdir_path)"
      ],
      "metadata": {
        "id": "ouLXSLpdYOiN"
      },
      "execution_count": null,
      "outputs": []
    },
    {
      "cell_type": "code",
      "source": [
        "print(sys.path)"
      ],
      "metadata": {
        "colab": {
          "base_uri": "https://localhost:8080/"
        },
        "id": "ASacZl9dlusZ",
        "outputId": "9430d2d6-c81e-4c05-b4f2-a5a6b1dc8196"
      },
      "execution_count": null,
      "outputs": [
        {
          "output_type": "stream",
          "name": "stdout",
          "text": [
            "['/content', '/env/python', '/usr/lib/python39.zip', '/usr/lib/python3.9', '/usr/lib/python3.9/lib-dynload', '', '/usr/local/lib/python3.9/dist-packages', '/usr/lib/python3/dist-packages', '/usr/local/lib/python3.9/dist-packages/IPython/extensions', '/root/.ipython', '../Crack_Detection_UNet', '/Crack_Detection_UNet', '/content/Crack_Detection_UNet']\n"
          ]
        }
      ]
    },
    {
      "cell_type": "markdown",
      "source": [
        "# Data"
      ],
      "metadata": {
        "id": "lLhi8vkrNj1z"
      }
    },
    {
      "cell_type": "code",
      "source": [
        "from customDataset import customDataset\n",
        "\n",
        "dataset = customDataset(data = \"/content/Data/Concrete\", for_training = True, data_type = \"image\",\n",
        "                 transform = None, seed = None)"
      ],
      "metadata": {
        "trusted": true,
        "id": "nyCcmMnSNj11"
      },
      "execution_count": null,
      "outputs": []
    },
    {
      "cell_type": "code",
      "source": [
        "data_directory = r\"/content/Data/Concrete\"\n",
        "data = customDataset(data = data_directory, test_factor = 0.2, data_type = \"image\",\n",
        "                 transform = None, multiple_processes = 2)"
      ],
      "metadata": {
        "trusted": true,
        "id": "tleRfqyMNj19",
        "outputId": "96593498-912b-4b16-fbad-f193fb9418dd",
        "colab": {
          "base_uri": "https://localhost:8080/",
          "height": 217
        }
      },
      "execution_count": null,
      "outputs": [
        {
          "output_type": "error",
          "ename": "TypeError",
          "evalue": "ignored",
          "traceback": [
            "\u001b[0;31m---------------------------------------------------------------------------\u001b[0m",
            "\u001b[0;31mTypeError\u001b[0m                                 Traceback (most recent call last)",
            "\u001b[0;32m<ipython-input-23-ebbc157d149e>\u001b[0m in \u001b[0;36m<module>\u001b[0;34m\u001b[0m\n\u001b[1;32m      1\u001b[0m \u001b[0mdata_directory\u001b[0m \u001b[0;34m=\u001b[0m \u001b[0;34mr\"/content/Data/Concrete\"\u001b[0m\u001b[0;34m\u001b[0m\u001b[0;34m\u001b[0m\u001b[0m\n\u001b[0;32m----> 2\u001b[0;31m data = customDataset(data = data_directory, test_factor = 0.2, data_type = \"image\",\n\u001b[0m\u001b[1;32m      3\u001b[0m                  transform = None, multiple_processes = 2)\n",
            "\u001b[0;31mTypeError\u001b[0m: __init__() got an unexpected keyword argument 'multiple_processes'"
          ]
        }
      ]
    },
    {
      "cell_type": "code",
      "source": [],
      "metadata": {
        "id": "CrLGTQuXNj1-"
      },
      "execution_count": null,
      "outputs": []
    },
    {
      "cell_type": "code",
      "source": [
        "data.get_random_sample(5, img_show = True)"
      ],
      "metadata": {
        "trusted": true,
        "id": "NRGpwy-jNj1-",
        "colab": {
          "base_uri": "https://localhost:8080/",
          "height": 165
        },
        "outputId": "535b47a4-9749-49a5-fd1c-dba3ac39412a"
      },
      "execution_count": null,
      "outputs": [
        {
          "output_type": "error",
          "ename": "NameError",
          "evalue": "ignored",
          "traceback": [
            "\u001b[0;31m---------------------------------------------------------------------------\u001b[0m",
            "\u001b[0;31mNameError\u001b[0m                                 Traceback (most recent call last)",
            "\u001b[0;32m<ipython-input-8-7cea434ab5d7>\u001b[0m in \u001b[0;36m<module>\u001b[0;34m\u001b[0m\n\u001b[0;32m----> 1\u001b[0;31m \u001b[0mdata\u001b[0m\u001b[0;34m.\u001b[0m\u001b[0mget_random_sample\u001b[0m\u001b[0;34m(\u001b[0m\u001b[0;36m5\u001b[0m\u001b[0;34m,\u001b[0m \u001b[0mimg_show\u001b[0m \u001b[0;34m=\u001b[0m \u001b[0;32mTrue\u001b[0m\u001b[0;34m)\u001b[0m\u001b[0;34m\u001b[0m\u001b[0;34m\u001b[0m\u001b[0m\n\u001b[0m",
            "\u001b[0;31mNameError\u001b[0m: name 'data' is not defined"
          ]
        }
      ]
    },
    {
      "cell_type": "code",
      "source": [
        "data.evaluate_data()"
      ],
      "metadata": {
        "trusted": true,
        "id": "FusCor9aNj1_"
      },
      "execution_count": null,
      "outputs": []
    },
    {
      "cell_type": "code",
      "source": [
        "data.initiate_process(batch_size = 32, shuffle = True, drop_last = False)"
      ],
      "metadata": {
        "trusted": true,
        "id": "s_6csyeSNj2A"
      },
      "execution_count": null,
      "outputs": []
    },
    {
      "cell_type": "markdown",
      "source": [
        "# Model"
      ],
      "metadata": {
        "id": "piHxX9joNj2A"
      }
    },
    {
      "cell_type": "code",
      "source": [
        "from model import Model\n",
        "\n",
        "uNet = Model()\n",
        "\n"
      ],
      "metadata": {
        "trusted": true,
        "id": "55YgVYA2Nj2B"
      },
      "execution_count": null,
      "outputs": []
    },
    {
      "cell_type": "markdown",
      "source": [
        "# Project"
      ],
      "metadata": {
        "id": "7LnH9U5NNj2D"
      }
    },
    {
      "cell_type": "code",
      "source": [],
      "metadata": {
        "trusted": true,
        "id": "rzVYiWDuNj2E"
      },
      "execution_count": null,
      "outputs": []
    },
    {
      "cell_type": "code",
      "source": [
        "from project import Project\n",
        "project = Project(model = uNet, dataset = dataset, problem = \"segmentation\", problem_type = \"supervised\", debugMode = True)"
      ],
      "metadata": {
        "trusted": true,
        "id": "VxK-Pd0xNj2F"
      },
      "execution_count": null,
      "outputs": []
    },
    {
      "cell_type": "code",
      "source": [
        "project.setup()"
      ],
      "metadata": {
        "id": "akuAIkXwNj2F",
        "colab": {
          "base_uri": "https://localhost:8080/",
          "height": 415
        },
        "outputId": "07d94447-0e67-4054-a093-0c08f104e4b5"
      },
      "execution_count": null,
      "outputs": [
        {
          "output_type": "stream",
          "name": "stdout",
          "text": [
            "Project Setup Initialization\n",
            "Dataset Initial Process Initialization\n",
            "Dataset Train_Test Split Initialization\n",
            "Test Factor: \n"
          ]
        },
        {
          "output_type": "error",
          "ename": "TypeError",
          "evalue": "ignored",
          "traceback": [
            "\u001b[0;31m---------------------------------------------------------------------------\u001b[0m",
            "\u001b[0;31mTypeError\u001b[0m                                 Traceback (most recent call last)",
            "\u001b[0;32m<ipython-input-97-a0ae4d4fca9c>\u001b[0m in \u001b[0;36m<module>\u001b[0;34m\u001b[0m\n\u001b[0;32m----> 1\u001b[0;31m \u001b[0mproject\u001b[0m\u001b[0;34m.\u001b[0m\u001b[0msetup\u001b[0m\u001b[0;34m(\u001b[0m\u001b[0;34m)\u001b[0m\u001b[0;34m\u001b[0m\u001b[0;34m\u001b[0m\u001b[0m\n\u001b[0m",
            "\u001b[0;32m/content/Crack_Detection_UNet/project.py\u001b[0m in \u001b[0;36msetup\u001b[0;34m(self, test_factor, seed)\u001b[0m\n\u001b[1;32m     81\u001b[0m \u001b[0;34m\u001b[0m\u001b[0m\n\u001b[1;32m     82\u001b[0m \u001b[0;34m\u001b[0m\u001b[0m\n\u001b[0;32m---> 83\u001b[0;31m       self.dataset.initiate_process(data_test = self.dataset.data_test,\n\u001b[0m\u001b[1;32m     84\u001b[0m                                     \u001b[0mtest_factor\u001b[0m \u001b[0;34m=\u001b[0m \u001b[0mtest_factor\u001b[0m\u001b[0;34m,\u001b[0m\u001b[0;34m\u001b[0m\u001b[0;34m\u001b[0m\u001b[0m\n\u001b[1;32m     85\u001b[0m                                     batch_size = 32, shuffle = True, drop_last = False, seed = seed)\n",
            "\u001b[0;32m/content/Crack_Detection_UNet/customDataset.py\u001b[0m in \u001b[0;36minitiate_process\u001b[0;34m(self, data_test, test_factor, batch_size, shuffle, drop_last, seed)\u001b[0m\n\u001b[1;32m     86\u001b[0m \u001b[0;34m\u001b[0m\u001b[0m\n\u001b[1;32m     87\u001b[0m         \u001b[0;32mif\u001b[0m \u001b[0;34m(\u001b[0m\u001b[0mdata_test\u001b[0m \u001b[0;32mis\u001b[0m \u001b[0;32mNone\u001b[0m\u001b[0;34m)\u001b[0m\u001b[0;34m:\u001b[0m\u001b[0;34m\u001b[0m\u001b[0;34m\u001b[0m\u001b[0m\n\u001b[0;32m---> 88\u001b[0;31m             \u001b[0mself\u001b[0m\u001b[0;34m.\u001b[0m\u001b[0mtrain_test_split\u001b[0m\u001b[0;34m(\u001b[0m\u001b[0mtest_factor\u001b[0m \u001b[0;34m=\u001b[0m \u001b[0mtest_factor\u001b[0m\u001b[0;34m,\u001b[0m \u001b[0mseed\u001b[0m \u001b[0;34m=\u001b[0m \u001b[0mseed\u001b[0m\u001b[0;34m)\u001b[0m\u001b[0;34m\u001b[0m\u001b[0;34m\u001b[0m\u001b[0m\n\u001b[0m\u001b[1;32m     89\u001b[0m \u001b[0;34m\u001b[0m\u001b[0m\n\u001b[1;32m     90\u001b[0m         \u001b[0;32melse\u001b[0m\u001b[0;34m:\u001b[0m\u001b[0;34m\u001b[0m\u001b[0;34m\u001b[0m\u001b[0m\n",
            "\u001b[0;32m/content/Crack_Detection_UNet/customDataset.py\u001b[0m in \u001b[0;36mtrain_test_split\u001b[0;34m(self, test_factor, seed)\u001b[0m\n\u001b[1;32m    439\u001b[0m         \u001b[0;32mif\u001b[0m \u001b[0;34m(\u001b[0m\u001b[0mseed\u001b[0m \u001b[0;32mis\u001b[0m \u001b[0;32mNone\u001b[0m\u001b[0;34m)\u001b[0m\u001b[0;34m:\u001b[0m\u001b[0;34m\u001b[0m\u001b[0;34m\u001b[0m\u001b[0m\n\u001b[1;32m    440\u001b[0m                 X_train, X_test, Y_train, Y_test = sklearn.model_selection.train_test_split(\n\u001b[0;32m--> 441\u001b[0;31m                     \u001b[0mself\u001b[0m\u001b[0;34m.\u001b[0m\u001b[0mdata\u001b[0m\u001b[0;34m[\u001b[0m\u001b[0;34m\"X\"\u001b[0m\u001b[0;34m]\u001b[0m\u001b[0;34m,\u001b[0m\u001b[0;34m\u001b[0m\u001b[0;34m\u001b[0m\u001b[0m\n\u001b[0m\u001b[1;32m    442\u001b[0m                     \u001b[0mself\u001b[0m\u001b[0;34m.\u001b[0m\u001b[0mdata\u001b[0m\u001b[0;34m[\u001b[0m\u001b[0;34m\"Y\"\u001b[0m\u001b[0;34m]\u001b[0m\u001b[0;34m,\u001b[0m\u001b[0;34m\u001b[0m\u001b[0;34m\u001b[0m\u001b[0m\n\u001b[1;32m    443\u001b[0m                     test_size = test_factor)\n",
            "\u001b[0;31mTypeError\u001b[0m: string indices must be integers"
          ]
        }
      ]
    },
    {
      "cell_type": "markdown",
      "source": [
        "# GitHub"
      ],
      "metadata": {
        "id": "opOtCfb3Nj2G"
      }
    },
    {
      "cell_type": "code",
      "source": [
        "\n"
      ],
      "metadata": {
        "id": "p1ocRrKiNj2G",
        "colab": {
          "base_uri": "https://localhost:8080/"
        },
        "outputId": "b6e47917-9d33-4e3b-bd2b-769846fdf1c1"
      },
      "execution_count": null,
      "outputs": [
        {
          "output_type": "stream",
          "name": "stdout",
          "text": [
            "fatal: not a git repository (or any of the parent directories): .git\n"
          ]
        }
      ]
    },
    {
      "cell_type": "code",
      "source": [],
      "metadata": {
        "id": "2KdJ7TQYmzj2"
      },
      "execution_count": null,
      "outputs": []
    }
  ]
}